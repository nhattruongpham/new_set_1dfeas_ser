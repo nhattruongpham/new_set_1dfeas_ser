{
 "cells": [
  {
   "cell_type": "code",
   "execution_count": null,
   "metadata": {},
   "outputs": [],
   "source": [
    "# Import libraries\n",
    "import numpy as np\n",
    "import glob\n",
    "import scipy\n",
    "import librosa"
   ]
  },
  {
   "cell_type": "code",
   "execution_count": null,
   "metadata": {},
   "outputs": [],
   "source": [
    "# get path of audio files\n",
    "audiofiles = glob.glob(\"wav_data/Anger/*.wav\") \n",
    "# Replace above Anger with each of these emotions (Boredom, Disgust, Fear, Happy, Neutral, Sad)"
   ]
  },
  {
   "cell_type": "code",
   "execution_count": null,
   "metadata": {},
   "outputs": [],
   "source": [
    "# Convert audio to time series matrix\n",
    "list_feature = []\n",
    "for af in audiofiles:\n",
    "    wav, sr = librosa.load(af)\n",
    "    wav = wav.astype(np.float64)\n",
    "    list_feature.append([wav])"
   ]
  },
  {
   "cell_type": "code",
   "execution_count": null,
   "metadata": {},
   "outputs": [],
   "source": [
    "# Convert time series matrix to numpy array\n",
    "feature_array = np.asarray(list_feature)\n",
    "feature_array.shape"
   ]
  },
  {
   "cell_type": "code",
   "execution_count": null,
   "metadata": {},
   "outputs": [],
   "source": [
    "# Save numpy array as MAT-file\n",
    "scipy.io.savemat(\"MAT_data/anger.mat\", {'anger_audios': feature_array})\n",
    "# Replace above anger with each of these emotions (boredom, disgust, fear, happy, neutral, sad)"
   ]
  }
 ],
 "metadata": {
  "kernelspec": {
   "display_name": "Python 3",
   "language": "python",
   "name": "python3"
  },
  "language_info": {
   "codemirror_mode": {
    "name": "ipython",
    "version": 3
   },
   "file_extension": ".py",
   "mimetype": "text/x-python",
   "name": "python",
   "nbconvert_exporter": "python",
   "pygments_lexer": "ipython3",
   "version": "3.6.8"
  }
 },
 "nbformat": 4,
 "nbformat_minor": 4
}
